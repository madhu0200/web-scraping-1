{
 "cells": [
  {
   "cell_type": "code",
   "execution_count": 222,
   "metadata": {},
   "outputs": [],
   "source": [
    "from bs4 import BeautifulSoup\n",
    "import os \n",
    "import pandas as pd\n",
    "import requests"
   ]
  },
  {
   "cell_type": "code",
   "execution_count": 223,
   "metadata": {},
   "outputs": [],
   "source": [
    "def parser(soup,df):\n",
    "    #df={'name':[],'rating':[],'pros':[],'cons':[],\"description\":[],\"price\":[],\"processor core\":[],\"processor\":[],\"RAM\":[],\"screen size\":[],\"display\":[],\"refresh rate\":[],\"back camera\":[],\"front camera\":[],\"flash\":[],\"battery capacity\":[],\"charging type\":[],\"port type\":[]}\n",
    "    mobiles=soup.find_all(name='div',class_='filter filer_finder')\n",
    "    for mobile in mobiles:\n",
    "        obj=mobile.find(\"div\",class_='filter-grey-bar')\n",
    "        \n",
    "        obj2=obj.find('div',class_='filter-main').div\n",
    "        obj3=obj2.find(\"div\")\n",
    "        try:\n",
    "            df['rating'].append(obj3.find(\"div\",class_=\"rating_box_new_list\").text)\n",
    "            \n",
    "        except:\n",
    "            df['rating'].append(\"NA\")\n",
    "        try:\n",
    "            df['name'].append(obj2.span.ul.li.a.text.replace(\" \",\"\"))\n",
    "        except:\n",
    "            df['rating'].append(\"NA\")\n",
    "        price=obj.find(\"div\",class_=\"filter-right\").div.span.text.replace(\"    \",\"\")\n",
    "        df['price'].append(price)\n",
    "        try:\n",
    "            pros_cons=obj.find(\"div\",class_=\"pros-cons\").find_all(\"p\")\n",
    "            df['pros'].append(pros_cons[0].text.replace(\"Pros: \",\"\"))\n",
    "            df['cons'].append(pros_cons[1].text.replace(\"Cons: \",\"\")) \n",
    "        except:\n",
    "            \n",
    "            df['pros'].append(\"NA\")\n",
    "            df['cons'].append(\"NA\") \n",
    "        try:   \n",
    "            df[\"description\"].append(obj.find(\"div\",\"exp_comnt_pnl\").p.text.replace(\"    \",\"\"))\n",
    "        except:\n",
    "            df[\"description\"].append(\"NA\")\n",
    "        specs=obj.find(\"div\",class_=\"filter-grey-bar filter_gray_bar_margin grey_bar_custpage\")\n",
    "        specs=specs.find_all(\"div\",class_=\"left specs_li\")\n",
    "        \n",
    "        performace=specs[0].find(\"div\",class_=\"a filter-list-text\").find_all(\"label\")\n",
    "        try:\n",
    "            df[\"processor core\"].append(performace[0].text)\n",
    "        except:\n",
    "            df[\"processor core\"].append(\"NA\")\n",
    "        df['processor'].append(performace[1].text)\n",
    "        df[\"RAM\"].append(performace[2].text)\n",
    "\n",
    "        display=specs[1].find(\"div\",class_=\"a filter-list-text\").find_all(\"label\") \n",
    "        df[\"screen size\"].append(display[0].text)\n",
    "        df['display'].append(display[1].text)\n",
    "        try:\n",
    "            df[\"refresh rate\"].append(display[2].text)\n",
    "        except:\n",
    "            df[\"refresh rate\"].append(\"NA\")\n",
    "\n",
    "        camera=specs[2].find(\"div\",class_=\"a filter-list-text\").find_all(\"label\")\n",
    "        df[\"back camera\"].append(camera[0].text)\n",
    "        df['flash'].append(camera[1].text)\n",
    "        df[\"front camera\"].append(camera[2].text)\n",
    "\n",
    "        battery=specs[3].find(\"div\",class_=\"a filter-list-text\").find_all(\"label\")\n",
    "        df[\"battery capacity\"].append(battery[0].text)\n",
    "        df['charging type'].append(battery[1].text)\n",
    "        df[\"port type\"].append(battery[2].text)\n",
    "    return df\n"
   ]
  },
  {
   "cell_type": "code",
   "execution_count": 224,
   "metadata": {},
   "outputs": [],
   "source": [
    "# Downloading imdb top 250 movie's data\n",
    "url = ['https://www.91mobiles.com/top-10-mobiles-in-india','https://www.91mobiles.com/top-10-mobiles-below-50000-in-india','https://www.91mobiles.com/top-10-mobiles-below-40000-in-india','https://www.91mobiles.com/top-10-mobiles-below-30000-in-india','https://www.91mobiles.com/top-10-mobiles-below-25000-in-india','https://www.91mobiles.com/top-10-mobiles-below-10000-in-india']\n",
    "df={'name':[],'rating':[],'pros':[],'cons':[],\"description\":[],\"price\":[],\"processor core\":[],\"processor\":[],\"RAM\":[],\"screen size\":[],\"display\":[],\"refresh rate\":[],\"back camera\":[],\"front camera\":[],\"flash\":[],\"battery capacity\":[],\"charging type\":[],\"port type\":[]}\n",
    "for i in url:\n",
    "    \n",
    "    response = requests.get(i)\n",
    "    soup = BeautifulSoup(response.text, \"html.parser\")\n",
    "    df=parser(soup,df)\n"
   ]
  },
  {
   "cell_type": "code",
   "execution_count": 225,
   "metadata": {},
   "outputs": [],
   "source": [
    "df=pd.DataFrame(df)\n",
    "df.to_excel(\"mobiles.xlsx\")"
   ]
  },
  {
   "cell_type": "code",
   "execution_count": 226,
   "metadata": {},
   "outputs": [
    {
     "name": "stdout",
     "output_type": "stream",
     "text": [
      "name 127\n",
      "rating 127\n",
      "pros 127\n",
      "cons 127\n",
      "description 127\n",
      "price 127\n",
      "processor core 127\n",
      "processor 127\n",
      "RAM 127\n",
      "screen size 127\n",
      "display 127\n",
      "refresh rate 127\n",
      "back camera 127\n",
      "front camera 127\n",
      "flash 127\n",
      "battery capacity 127\n",
      "charging type 127\n",
      "port type 127\n"
     ]
    }
   ],
   "source": [
    "for i in df:\n",
    "    print(i,len(df[i]))"
   ]
  }
 ],
 "metadata": {
  "kernelspec": {
   "display_name": "Python 3",
   "language": "python",
   "name": "python3"
  },
  "language_info": {
   "codemirror_mode": {
    "name": "ipython",
    "version": 3
   },
   "file_extension": ".py",
   "mimetype": "text/x-python",
   "name": "python",
   "nbconvert_exporter": "python",
   "pygments_lexer": "ipython3",
   "version": "3.11.1"
  }
 },
 "nbformat": 4,
 "nbformat_minor": 2
}
